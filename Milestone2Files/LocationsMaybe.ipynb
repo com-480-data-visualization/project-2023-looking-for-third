{
 "cells": [
  {
   "cell_type": "code",
   "execution_count": 1,
   "id": "a5d5a875",
   "metadata": {},
   "outputs": [],
   "source": [
    "import numpy as np\n",
    "import pandas as pd \n",
    "import seaborn as sns\n",
    "import matplotlib.pyplot as plt \n",
    "#Plot Maps\n",
    "import geopandas\n",
    "import pycountry \n",
    "from ipywidgets import interact, IntSlider\n",
    "\n",
    "from sklearn.impute import SimpleImputer\n",
    "import datetime\n",
    "\n",
    "from geopy.exc import GeocoderTimedOut\n",
    "from geopy.geocoders import Nominatim\n",
    "from geopy.extra.rate_limiter import RateLimiter\n",
    "\n",
    "from functools import partial\n",
    "import csv\n",
    "\n",
    "import os"
   ]
  },
  {
   "cell_type": "code",
   "execution_count": 2,
   "id": "71e1a8c9",
   "metadata": {},
   "outputs": [],
   "source": [
    "nd = pd.read_csv('dataset/EMDAT_1900-2021_NatDis.csv')"
   ]
  },
  {
   "cell_type": "code",
   "execution_count": 3,
   "id": "68ac6e5c-581d-482b-8810-5bcb0dd267d0",
   "metadata": {},
   "outputs": [],
   "source": [
    "nd.loc[(nd.Country == 'Bahamas (the)'),'Country']='Bahamas'\n",
    "nd.loc[(nd.Country == 'Bolivia (Plurinational State of)'),'Country']='Bolivia, Plurinational State of'\n",
    "nd.loc[(nd.Country == 'Comoros (the)'),'Country']='Comoros'\n",
    "nd.loc[(nd.Country == 'Congo (the Democratic Republic of the)'),'Country']='Congo, the Democratic Republic of the'\n",
    "nd.loc[(nd.Country == 'Congo (the)'),'Country']='Congo'\n",
    "nd.loc[(nd.Country == 'Côte d’Ivoire'),'Country']=\"Côte d'Ivoire\"\n",
    "nd.loc[(nd.Country == 'Czech Republic (the)'),'Country']=\"Czechia\"\n",
    "nd.loc[(nd.Country == 'Dominican Republic (the)'),'Country']=\"Dominican Republic\"\n",
    "nd.loc[(nd.Country == 'Gambia (the)'),'Country']=\"Gambia\"\n",
    "nd.loc[(nd.Country == 'Iran (Islamic Republic of)'),'Country']=\"Iran, Islamic Republic of\" \n",
    "nd.loc[(nd.Country == \"Korea (the Democratic People's Republic of)\"),'Country']=\"Korea, Democratic People's Republic of\" \n",
    "nd.loc[(nd.Country == \"Korea (the Republic of)\"),'Country']=\"Korea, Republic of\" \n",
    "nd.loc[(nd.Country == \"Lao People's Democratic Republic (the)\"),'Country']=\"Lao People's Democratic Republic\" \n",
    "nd.loc[(nd.Country == \"Macedonia (the former Yugoslav Republic of)\"),'Country']=\"North Macedonia\"\n",
    "nd.loc[(nd.Country == \"Marshall Islands (the)\"),'Country']=\"Marshall Islands\" \n",
    "nd.loc[(nd.Country == \"Micronesia (Federated States of)\"),'Country']=\"Micronesia, Federated States of\" \n",
    "nd.loc[(nd.Country == \"Moldova (the Republic of)\"),'Country']=\"Moldova, Republic of\" \n",
    "nd.loc[(nd.Country == \"Netherlands (the)\"),'Country']=\"Netherlands\" \n",
    "nd.loc[(nd.Country == \"Niger (the)\"),'Country']=\"Niger\" \n",
    "nd.loc[(nd.Country == \"Philippines (the)\"),'Country']=\"Philippines\" \n",
    "nd.loc[(nd.Country == \"Russian Federation (the)\"),'Country']=\"Russian Federation\" \n",
    "nd.loc[(nd.Country == \"Sudan (the)\"),'Country']=\"Sudan\" \n",
    "nd.loc[(nd.Country == \"Taiwan (Province of China)\"),'Country']=\"Taiwan\"\n",
    "nd.loc[(nd.Country == \"United Arab Emirates (the)\"),'Country']=\"United Arab Emirates\"\n",
    "nd.loc[(nd.Country == \"United Kingdom of Great Britain and Northern Ireland (the)\"),'Country']=\"United Kingdom\" \n",
    "nd.loc[(nd.Country == 'United States of America (the)'),'Country']=\"United States\" \n",
    "nd.loc[(nd.Country == 'Venezuela (Bolivarian Republic of)'),'Country']='Venezuela, Bolivarian Republic of' \n",
    "nd.loc[(nd.Country == 'Swaziland'),'Country']='Eswatini'"
   ]
  },
  {
   "cell_type": "code",
   "execution_count": 4,
   "id": "688bdc97-74da-43cc-a67e-82505c8ad843",
   "metadata": {},
   "outputs": [],
   "source": [
    "def alpha2code(column):\n",
    "    CODE=[]\n",
    "    for country in column:\n",
    "        try:\n",
    "            code=pycountry.countries.get(name=country).alpha_2\n",
    "            CODE.append(code)\n",
    "        except:\n",
    "            CODE.append('None')\n",
    "    return CODE"
   ]
  },
  {
   "cell_type": "code",
   "execution_count": 5,
   "id": "de86b9d5-e1f9-4c6c-95e5-e8fbbe858fdc",
   "metadata": {},
   "outputs": [],
   "source": [
    "nd['CountryAlpha2'] = alpha2code(nd.Country)"
   ]
  },
  {
   "cell_type": "code",
   "execution_count": 6,
   "id": "b42d7ff3-add6-4229-8a50-7c1b47b3eb0d",
   "metadata": {},
   "outputs": [],
   "source": [
    "pd.set_option('display.max_columns', None)\n",
    "pd.set_option('display.max_rows', None)"
   ]
  },
  {
   "cell_type": "code",
   "execution_count": 7,
   "id": "5e5a66bf-b7eb-4021-808a-89bf4936649d",
   "metadata": {},
   "outputs": [],
   "source": [
    "useful = nd[['Dis No', 'Disaster Type', 'Disaster Subtype', 'Continent', 'Region', 'Country', 'CountryAlpha2', 'Location', 'Latitude', 'Longitude']]"
   ]
  },
  {
   "cell_type": "code",
   "execution_count": 8,
   "id": "b0df0fe3-9d56-4563-9678-4b3e50e28995",
   "metadata": {},
   "outputs": [],
   "source": [
    "geolocator = Nominatim(user_agent=\"epfl.lookingforthird.locationsmaybe\")\n",
    "rateLimiter = RateLimiter(geolocator.geocode, min_delay_seconds=1, max_retries=0)\n",
    "\n",
    "def findCoordsForRow(row, nameCol, codeCol):\n",
    "    try:\n",
    "        return rateLimiter(row[nameCol], country_codes=row[codeCol])\n",
    "    except:\n",
    "        return None\n",
    "\n",
    "def applyRateLimiter(df, nameCol, codeCol, foundLocation, foundLat, foundLong, fileName):\n",
    "    df[foundLocation] = df.apply(partial(findCoordsForRow, nameCol=nameCol, codeCol=codeCol), axis=1)\n",
    "    df[foundLat] = df[foundLocation].apply(lambda loc: loc.point[0] if loc else None)\n",
    "    df[foundLong] = df[foundLocation].apply(lambda loc: loc.point[1] if loc else None)\n",
    "    df.to_csv(fileName, encoding='utf-16')"
   ]
  },
  {
   "cell_type": "code",
   "execution_count": 46,
   "id": "475800d0-e0bd-4454-9d77-dbf3480b3a03",
   "metadata": {},
   "outputs": [
    {
     "data": {
      "text/plain": [
       "Location(Saint-Barthélemy, 97133, France, (17.9036287, -62.81152921501989, 0.0))"
      ]
     },
     "execution_count": 46,
     "metadata": {},
     "output_type": "execute_result"
    }
   ],
   "source": [
    "geolocator.geocode('Saint Barthélemy')"
   ]
  },
  {
   "cell_type": "code",
   "execution_count": 329,
   "id": "73e9b4df-1ecd-4bbc-a9c0-4fafd0b32208",
   "metadata": {},
   "outputs": [],
   "source": [
    "grouped = useful.groupby(['Country', 'CountryAlpha2']).size().reset_index().rename(columns={0:'Count'})\n",
    "grouped = grouped.sort_values('Count', ascending=False)"
   ]
  },
  {
   "cell_type": "code",
   "execution_count": 330,
   "id": "0aa6070a-40f8-456f-bd48-719b4192a000",
   "metadata": {},
   "outputs": [
    {
     "data": {
      "text/html": [
       "<div>\n",
       "<style scoped>\n",
       "    .dataframe tbody tr th:only-of-type {\n",
       "        vertical-align: middle;\n",
       "    }\n",
       "\n",
       "    .dataframe tbody tr th {\n",
       "        vertical-align: top;\n",
       "    }\n",
       "\n",
       "    .dataframe thead th {\n",
       "        text-align: right;\n",
       "    }\n",
       "</style>\n",
       "<table border=\"1\" class=\"dataframe\">\n",
       "  <thead>\n",
       "    <tr style=\"text-align: right;\">\n",
       "      <th></th>\n",
       "      <th>Country</th>\n",
       "      <th>CountryAlpha2</th>\n",
       "      <th>Count</th>\n",
       "    </tr>\n",
       "  </thead>\n",
       "  <tbody>\n",
       "    <tr>\n",
       "      <th>212</th>\n",
       "      <td>United States</td>\n",
       "      <td>US</td>\n",
       "      <td>1059</td>\n",
       "    </tr>\n",
       "    <tr>\n",
       "      <th>40</th>\n",
       "      <td>China</td>\n",
       "      <td>CN</td>\n",
       "      <td>970</td>\n",
       "    </tr>\n",
       "    <tr>\n",
       "      <th>90</th>\n",
       "      <td>India</td>\n",
       "      <td>IN</td>\n",
       "      <td>740</td>\n",
       "    </tr>\n",
       "    <tr>\n",
       "      <th>155</th>\n",
       "      <td>Philippines</td>\n",
       "      <td>PH</td>\n",
       "      <td>659</td>\n",
       "    </tr>\n",
       "    <tr>\n",
       "      <th>91</th>\n",
       "      <td>Indonesia</td>\n",
       "      <td>ID</td>\n",
       "      <td>560</td>\n",
       "    </tr>\n",
       "  </tbody>\n",
       "</table>\n",
       "</div>"
      ],
      "text/plain": [
       "           Country CountryAlpha2  Count\n",
       "212  United States            US   1059\n",
       "40           China            CN    970\n",
       "90           India            IN    740\n",
       "155    Philippines            PH    659\n",
       "91       Indonesia            ID    560"
      ]
     },
     "execution_count": 330,
     "metadata": {},
     "output_type": "execute_result"
    }
   ],
   "source": [
    "grouped.head()"
   ]
  },
  {
   "cell_type": "code",
   "execution_count": null,
   "id": "d1e72eb3-235a-402a-8b29-9a1033096dc4",
   "metadata": {},
   "outputs": [],
   "source": [
    "applyRateLimiter(grouped, 'Country', 'CountryAlpha2', 'Found Location', 'Found Latitude', 'Found Longitude', 'FoundCoords/Countries.csv')"
   ]
  },
  {
   "cell_type": "code",
   "execution_count": 9,
   "id": "0645852d-042f-4c56-8d2b-686a09b93092",
   "metadata": {},
   "outputs": [],
   "source": [
    "locGrouped = useful.loc[useful['CountryAlpha2'] != 'None'].groupby(['Country', 'CountryAlpha2', 'Location']).size().reset_index().rename(columns={0:'Count'})\n",
    "locGrouped = locGrouped.sort_values('Count', ascending=False)"
   ]
  },
  {
   "cell_type": "code",
   "execution_count": 10,
   "id": "0eab0613-f589-4f2d-a518-e6245951ab88",
   "metadata": {},
   "outputs": [
    {
     "data": {
      "text/html": [
       "<div>\n",
       "<style scoped>\n",
       "    .dataframe tbody tr th:only-of-type {\n",
       "        vertical-align: middle;\n",
       "    }\n",
       "\n",
       "    .dataframe tbody tr th {\n",
       "        vertical-align: top;\n",
       "    }\n",
       "\n",
       "    .dataframe thead th {\n",
       "        text-align: right;\n",
       "    }\n",
       "</style>\n",
       "<table border=\"1\" class=\"dataframe\">\n",
       "  <thead>\n",
       "    <tr style=\"text-align: right;\">\n",
       "      <th></th>\n",
       "      <th>Country</th>\n",
       "      <th>CountryAlpha2</th>\n",
       "      <th>Location</th>\n",
       "      <th>Count</th>\n",
       "    </tr>\n",
       "  </thead>\n",
       "  <tbody>\n",
       "    <tr>\n",
       "      <th>11899</th>\n",
       "      <td>United States</td>\n",
       "      <td>US</td>\n",
       "      <td>Texas</td>\n",
       "      <td>21</td>\n",
       "    </tr>\n",
       "    <tr>\n",
       "      <th>11269</th>\n",
       "      <td>United States</td>\n",
       "      <td>US</td>\n",
       "      <td>California</td>\n",
       "      <td>18</td>\n",
       "    </tr>\n",
       "    <tr>\n",
       "      <th>2753</th>\n",
       "      <td>China</td>\n",
       "      <td>CN</td>\n",
       "      <td>Yunnan province</td>\n",
       "      <td>17</td>\n",
       "    </tr>\n",
       "    <tr>\n",
       "      <th>2611</th>\n",
       "      <td>China</td>\n",
       "      <td>CN</td>\n",
       "      <td>Sichuan province</td>\n",
       "      <td>17</td>\n",
       "    </tr>\n",
       "    <tr>\n",
       "      <th>5114</th>\n",
       "      <td>India</td>\n",
       "      <td>IN</td>\n",
       "      <td>Uttar Pradesh</td>\n",
       "      <td>16</td>\n",
       "    </tr>\n",
       "  </tbody>\n",
       "</table>\n",
       "</div>"
      ],
      "text/plain": [
       "             Country CountryAlpha2          Location  Count\n",
       "11899  United States            US             Texas     21\n",
       "11269  United States            US        California     18\n",
       "2753           China            CN   Yunnan province     17\n",
       "2611           China            CN  Sichuan province     17\n",
       "5114           India            IN     Uttar Pradesh     16"
      ]
     },
     "execution_count": 10,
     "metadata": {},
     "output_type": "execute_result"
    }
   ],
   "source": [
    "locGrouped.head()"
   ]
  },
  {
   "cell_type": "code",
   "execution_count": 11,
   "id": "e5c175df-7cc5-47cb-887e-c8bdfeef428b",
   "metadata": {},
   "outputs": [
    {
     "data": {
      "text/plain": [
       "12515"
      ]
     },
     "execution_count": 11,
     "metadata": {},
     "output_type": "execute_result"
    }
   ],
   "source": [
    "len(locGrouped.index)"
   ]
  },
  {
   "cell_type": "code",
   "execution_count": 12,
   "id": "01bb098f-90f4-4042-9686-83802e35fe94",
   "metadata": {},
   "outputs": [],
   "source": [
    "locSplits = np.array_split(locGrouped, 100)"
   ]
  },
  {
   "cell_type": "code",
   "execution_count": null,
   "id": "1bf1e0ec-01fe-46e8-915a-18434283888b",
   "metadata": {},
   "outputs": [],
   "source": [
    "cnt = 0\n",
    "for df in locSplits:\n",
    "    fileName = 'FoundCoords/Locations_' + str(cnt).zfill(3) + '.csv'\n",
    "    applyRateLimiter(df, 'Location', 'CountryAlpha2', 'Found Location', 'Found Latitude', 'Found Longitude', fileName)\n",
    "    cnt += 1"
   ]
  },
  {
   "cell_type": "code",
   "execution_count": null,
   "id": "851067fb-965b-481d-99c5-c7384147c6d0",
   "metadata": {},
   "outputs": [],
   "source": []
  }
 ],
 "metadata": {
  "kernelspec": {
   "display_name": "Python 3",
   "language": "python",
   "name": "python3"
  },
  "language_info": {
   "codemirror_mode": {
    "name": "ipython",
    "version": 3
   },
   "file_extension": ".py",
   "mimetype": "text/x-python",
   "name": "python",
   "nbconvert_exporter": "python",
   "pygments_lexer": "ipython3",
   "version": "3.8.12"
  }
 },
 "nbformat": 4,
 "nbformat_minor": 5
}
